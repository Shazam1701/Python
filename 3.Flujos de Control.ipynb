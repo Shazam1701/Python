{
 "cells": [
  {
   "cell_type": "markdown",
   "id": "b12d4856",
   "metadata": {},
   "source": [
    "# Flujos de Control"
   ]
  },
  {
   "cell_type": "markdown",
   "id": "a7457ff2",
   "metadata": {},
   "source": [
    "### Sentencia IF"
   ]
  },
  {
   "cell_type": "markdown",
   "id": "b3da8f12",
   "metadata": {},
   "source": [
    "El comando If sirve para ev aluar condiciones logicas y dependiendo del resultado puedes generar determinadas acciones"
   ]
  },
  {
   "cell_type": "code",
   "execution_count": 3,
   "id": "c43d37fb",
   "metadata": {},
   "outputs": [
    {
     "name": "stdout",
     "output_type": "stream",
     "text": [
      "8 es menor a 10\n",
      "Termina el proceso, salimos de la sentencia If\n"
     ]
    }
   ],
   "source": [
    "var=8\n",
    "if var<10:\n",
    "    print('{} es menor a 10'.format(var))\n",
    "print('Termina el proceso, salimos de la sentencia If')"
   ]
  },
  {
   "cell_type": "markdown",
   "id": "f2168af0",
   "metadata": {},
   "source": [
    "Otro comando que es una sentencia que nace el If es el uso del if-else"
   ]
  },
  {
   "cell_type": "code",
   "execution_count": 5,
   "id": "c81f6ecc",
   "metadata": {},
   "outputs": [
    {
     "name": "stdout",
     "output_type": "stream",
     "text": [
      "5 es menor a 10\n",
      "El valor de a es: 10\n"
     ]
    }
   ],
   "source": [
    "# If- else\n",
    "\n",
    "var=5\n",
    "if var<10:\n",
    "    print('{} es menor a 10'.format(var))\n",
    "    a=10\n",
    "    print('El valor de a es: '+ str(a))\n",
    "else:\n",
    "    print('{} es mayor a 10'.format(var))\n",
    "    a=5\n",
    "    print('El valor de a es: '+ str(a))"
   ]
  },
  {
   "cell_type": "markdown",
   "id": "f08dc969",
   "metadata": {},
   "source": [
    "Podemos generar un programa que evalue la edad del usuario y determinar si este es mayo o menor de edad\n"
   ]
  },
  {
   "cell_type": "code",
   "execution_count": 6,
   "id": "d0d8d1ee",
   "metadata": {},
   "outputs": [
    {
     "name": "stdout",
     "output_type": "stream",
     "text": [
      "Hola, ¿Cuantos años tienes?23\n",
      "Adelante, puedes entrar al club\n"
     ]
    }
   ],
   "source": [
    "edad= int(input('Hola, ¿Cuantos años tienes?'))\n",
    "\n",
    "if edad>=18:\n",
    "    print('Adelante, puedes entrar al club')\n",
    "else:\n",
    "    print('Lo sentimos, no puedes acceder')"
   ]
  },
  {
   "cell_type": "markdown",
   "id": "9526c2e9",
   "metadata": {},
   "source": [
    "Inclusive podemos hacer más de una pregunta y aumentar el numero de condicionales que vamos a evaluar "
   ]
  },
  {
   "cell_type": "code",
   "execution_count": 12,
   "id": "cc4018c9",
   "metadata": {},
   "outputs": [
    {
     "name": "stdout",
     "output_type": "stream",
     "text": [
      "Hola, ¿Cuantos años tienes?68\n",
      "Adelante, las personas mayores no pagan boleto\n"
     ]
    }
   ],
   "source": [
    "edad= int(input('Hola, ¿Cuantos años tienes?'))\n",
    "\n",
    "if edad<5:\n",
    "    print('Lo sentimos, no puedes acceder')\n",
    "else:\n",
    "    if edad<18:\n",
    "        print('Adelante, pagas boleto de niño')\n",
    "    else:\n",
    "        if edad<65:\n",
    "            print('Adelante, pagas boleto de adulto')\n",
    "        else:\n",
    "            print('Adelante, las personas mayores no pagan boleto')"
   ]
  },
  {
   "cell_type": "code",
   "execution_count": 18,
   "id": "cf29311a",
   "metadata": {},
   "outputs": [
    {
     "name": "stdout",
     "output_type": "stream",
     "text": [
      "Usuario a continuacion ingrese 3 valores\n",
      "----------------------------------------\n",
      "Por favor ingresa un valor: 7\n",
      "Por favor ingresa un valor: 5\n",
      "Por favor ingresa un valor: 2\n",
      "Alguna de las variables es menor a 5\n"
     ]
    }
   ],
   "source": [
    "print('Usuario a continuacion ingrese 3 valores')\n",
    "\n",
    "print('----------------------------------------')\n",
    "v1=int(input('Por favor ingresa un valor: '))\n",
    "v2=int(input('Por favor ingresa un valor: '))\n",
    "v3=int(input('Por favor ingresa un valor: '))\n",
    "\n",
    "if v1>=5 and v2>=5 and v3>=5:\n",
    "    print('Todas las variables son mayores a 5')\n",
    "else:\n",
    "    print('Alguna de las variables es menor a 5')"
   ]
  },
  {
   "cell_type": "code",
   "execution_count": 19,
   "id": "e34d5f53",
   "metadata": {},
   "outputs": [
    {
     "name": "stdout",
     "output_type": "stream",
     "text": [
      "Ingresa 1 número: 5\n",
      "Ingresa 1 número: 8\n",
      "Ingresa 1 número: 6\n",
      "Ingresa 1 número: 9\n",
      "Ingresa 1 número: 1\n",
      "Ingresa 1 número: 2\n",
      "Ingresa 1 número: 3\n",
      "La suma de los numeros es: 5, 8, 6, 9, 1, 2, 3 es : 34\n"
     ]
    }
   ],
   "source": [
    "num1= int(input('Ingresa un número: '))\n",
    "num2= int(input('Ingresa un número '))\n",
    "num3= int(input('Ingresa un número: '))\n",
    "num4= int(input('Ingresa un número: '))\n",
    "num5= int(input('Ingresa un número: '))\n",
    "num6= int(input('Ingresa un número: '))\n",
    "num7= int(input('Ingresa un número: '))\n",
    "\n",
    "suma= 0\n",
    "\n",
    "if num1 < 10:\n",
    "    suma+= num1  ## suma= suma + num1\n",
    "\n",
    "if num2 < 10:\n",
    "    suma+= num2\n",
    "\n",
    "if num3 < 10:\n",
    "    suma+= num3\n",
    "\n",
    "if num4 < 10:\n",
    "    suma+= num4\n",
    "\n",
    "if num5 < 10:\n",
    "    suma+= num5\n",
    "\n",
    "if num6 < 10:\n",
    "    suma+= num6\n",
    "\n",
    "if num7 < 10:\n",
    "    suma+= num7\n",
    "print('La suma de los numeros es: {}, {}, {}, {}, {}, {}, {} es : {}'.format(\n",
    "     num1,num2,num3,num4,num5,num6,num7,suma))   "
   ]
  },
  {
   "cell_type": "markdown",
   "id": "210341fa",
   "metadata": {},
   "source": [
    "# Ciclo For"
   ]
  },
  {
   "cell_type": "markdown",
   "id": "4dab5b04",
   "metadata": {},
   "source": [
    "Este ciclo nos sirve para ejectuar un conjunto de sentencias, una cantidad finita y conocida de veces, por lo cual es muy util para realizar tareas repetitivas"
   ]
  },
  {
   "cell_type": "code",
   "execution_count": 23,
   "id": "0dcec899",
   "metadata": {},
   "outputs": [
    {
     "name": "stdout",
     "output_type": "stream",
     "text": [
      "0\n",
      "1\n",
      "2\n",
      "3\n",
      "4\n",
      "5\n",
      "6\n",
      "7\n",
      "8\n",
      "9\n",
      "Termina el ciclo\n"
     ]
    }
   ],
   "source": [
    "for num in range(10):\n",
    "    print(num)\n",
    "print('Termina el ciclo')"
   ]
  },
  {
   "cell_type": "markdown",
   "id": "90cab850",
   "metadata": {},
   "source": [
    "Los cilos se pueden generar sobre los elementos de una lista"
   ]
  },
  {
   "cell_type": "code",
   "execution_count": 25,
   "id": "6d83f272",
   "metadata": {},
   "outputs": [
    {
     "name": "stdout",
     "output_type": "stream",
     "text": [
      "Numero 2\n",
      "Numero 6\n",
      "Numero 34\n",
      "Numero 7\n",
      "Numero 3\n",
      "Numero 6\n",
      "Numero 2\n",
      "Numero 5\n",
      "Numero 78\n",
      "Numero 9\n",
      "Numero 45\n",
      "Termina el ciclo\n"
     ]
    }
   ],
   "source": [
    "lista=[2,6,34,7,3,6,2,5,78,9,45]\n",
    "\n",
    "for i in lista:\n",
    "    print('Numero {}'.format(i))\n",
    "print('Termina el ciclo')"
   ]
  },
  {
   "cell_type": "code",
   "execution_count": 27,
   "id": "bcf58ba8",
   "metadata": {},
   "outputs": [
    {
     "name": "stdout",
     "output_type": "stream",
     "text": [
      "A\n",
      "n\n",
      "t\n",
      "o\n",
      "n\n",
      "i\n",
      "o\n"
     ]
    }
   ],
   "source": [
    "for i in 'Antonio':\n",
    "    print(i)"
   ]
  },
  {
   "cell_type": "markdown",
   "id": "8170e0bc",
   "metadata": {},
   "source": [
    "**Ejercicio:** Genera un programa que pida 5 números al usuario y regrese la suma de los números\n",
    "que sean menores que 10 con el mensaje haciendo uso de la función for"
   ]
  },
  {
   "cell_type": "code",
   "execution_count": 42,
   "id": "79a57825",
   "metadata": {},
   "outputs": [
    {
     "name": "stdout",
     "output_type": "stream",
     "text": [
      "Por favor ingrese un numero: 1\n",
      "Por favor ingrese un numero: 11\n",
      "Por favor ingrese un numero: 11\n",
      "Por favor ingrese un numero: 11\n",
      "La suma total de los numeros menos a 10 es: 1\n"
     ]
    }
   ],
   "source": [
    "suma=0\n",
    "\n",
    "for i in range(4):\n",
    "    v=int(input('Por favor ingrese un numero: '))\n",
    "    if v<10:\n",
    "        suma=suma+v\n",
    "        \n",
    "print('La suma total de los numeros menos a 10 es: '+ str(suma))"
   ]
  },
  {
   "cell_type": "markdown",
   "id": "6b901868",
   "metadata": {},
   "source": [
    "# Ciclo While"
   ]
  },
  {
   "cell_type": "markdown",
   "id": "678ad7b1",
   "metadata": {},
   "source": [
    "Este ciclo no tiene realemnte un final determinado a diferencia del ciclo anterior ya que este ciclo trabaja sobre una condicion, mienras esta condicion se cumpla se seguira realizando el proceso, en el momento en que no se cumpla se detendra."
   ]
  },
  {
   "cell_type": "code",
   "execution_count": 45,
   "id": "5fbafc82",
   "metadata": {},
   "outputs": [
    {
     "name": "stdout",
     "output_type": "stream",
     "text": [
      "1\n",
      "2\n",
      "3\n",
      "4\n",
      "5\n",
      "6\n",
      "7\n",
      "8\n",
      "9\n",
      "10\n"
     ]
    }
   ],
   "source": [
    "n=1\n",
    "\n",
    "while n<=10:\n",
    "    print(n)\n",
    "    n+=1"
   ]
  },
  {
   "cell_type": "markdown",
   "id": "4a6712d0",
   "metadata": {},
   "source": [
    "**Ejercicio:** Genera un programa que pida dos números enteros con la condición de que el segundo número debe ser mayor al primero y mientras no se cumpla siga pidiendo números e imprima el mensaje \"b no es mayor que a\", el programa debe imprimir al final los dos números con el mensaje \"a es menor que b\" y la suma"
   ]
  },
  {
   "cell_type": "code",
   "execution_count": 52,
   "id": "02e881a5",
   "metadata": {},
   "outputs": [
    {
     "name": "stdout",
     "output_type": "stream",
     "text": [
      "Ingresa el valor de la variable \"a\" :2\n",
      "Ingresa el valor de la variable \"b\" :6\n",
      "2 es menor a 6 \n",
      "Suma: 8\n"
     ]
    }
   ],
   "source": [
    "a=int(input('Ingresa el valor de la variable \"a\" :'))\n",
    "b=int(input('Ingresa el valor de la variable \"b\" :'))\n",
    "\n",
    "while b<a:\n",
    "    print('{} no es mayor que {}'.format(b, a))\n",
    "    b= int(input('Ingresa un número'))\n",
    "    \n",
    "print(\"{} es menor a {} \\nSuma: {}\".format(a, b, a+b))\n",
    "\n"
   ]
  },
  {
   "cell_type": "markdown",
   "id": "602d0693",
   "metadata": {},
   "source": [
    "### Calculadora Basica"
   ]
  },
  {
   "cell_type": "code",
   "execution_count": 76,
   "id": "6b0b9ac2",
   "metadata": {},
   "outputs": [
    {
     "name": "stdout",
     "output_type": "stream",
     "text": [
      "{'Suma': 's', 'Resta': 'r', 'Multiplicacion': 'm', 'Division': 'd'}\n",
      "------------------\n",
      "¿Que tipo de operacion deseas realizar realizar? Oprima la letra correspondiented\n",
      "Ingrese un numero: 169\n",
      "Ingrese un numero: 13\n",
      "El resultado es: 13.0\n"
     ]
    }
   ],
   "source": [
    "dic_num=dict(zip(['Suma','Resta','Multiplicacion','Division'],\n",
    "                 ['s','r','m','d']))\n",
    "print(dic_num)\n",
    "\n",
    "print('------------------')\n",
    "r=input('¿Que tipo de operacion deseas realizar realizar? Oprima la letra correspondiente')\n",
    "\n",
    "\n",
    "\n",
    "if r=='s':\n",
    "    num=int(input('¿Cuantos numeros deseas sumar?'))\n",
    "    suma=0\n",
    "    for i in range(num):\n",
    "        n=int(input('Ingrese un numero: '))\n",
    "        suma=suma+n\n",
    "    print('La suma es: '+ str(suma))\n",
    "else:\n",
    "    if r=='r':\n",
    "        num=2\n",
    "        n1=int(input('Ingrese un numero: '))\n",
    "        n2=int(input('Ingrese un numero: '))\n",
    "        resta=n1-n2\n",
    "        print('La resta es: '+ str(resta))\n",
    "    else:\n",
    "        if r=='m':\n",
    "            num=int(input('¿Cuantos numeros deseas multiplicar?'))\n",
    "            mult=1\n",
    "            for i in range(num):\n",
    "                n=int(input('Ingrese un numero: '))\n",
    "                mult=mult*n\n",
    "            print('el resultado es: '+ str(mult))\n",
    "        else:\n",
    "            if r=='d':\n",
    "                num=2\n",
    "                n1=int(input('Ingrese un numero: '))\n",
    "                n2=int(input('Ingrese un numero: '))\n",
    "                div=n1/n2\n",
    "                print('El resultado es: '+ str(div))   \n",
    "    "
   ]
  }
 ],
 "metadata": {
  "kernelspec": {
   "display_name": "Python 3 (ipykernel)",
   "language": "python",
   "name": "python3"
  },
  "language_info": {
   "codemirror_mode": {
    "name": "ipython",
    "version": 3
   },
   "file_extension": ".py",
   "mimetype": "text/x-python",
   "name": "python",
   "nbconvert_exporter": "python",
   "pygments_lexer": "ipython3",
   "version": "3.9.7"
  }
 },
 "nbformat": 4,
 "nbformat_minor": 5
}
