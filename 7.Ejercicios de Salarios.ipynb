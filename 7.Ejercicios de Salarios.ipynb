{
 "cells": [
  {
   "cell_type": "code",
   "execution_count": 1,
   "id": "92121e48",
   "metadata": {},
   "outputs": [],
   "source": [
    "import os\n",
    "import pandas as pd\n",
    "import numpy as np"
   ]
  },
  {
   "cell_type": "code",
   "execution_count": 43,
   "id": "8816949d",
   "metadata": {},
   "outputs": [],
   "source": [
    "#cargamos la base de Salarios\n",
    "dire=os.getcwd()\n",
    "salarios=pd.read_csv(dire+'\\\\Salarios.txt',sep=',',\n",
    "                     dtype= {'Anio': np.str_,'Codigo_Grupo': np.str_,\n",
    "                                'Codigo_Representante':np.str_, \n",
    "                                'ID_EMPLEADO':np.str_})"
   ]
  },
  {
   "cell_type": "markdown",
   "id": "3da145b7",
   "metadata": {},
   "source": [
    "#### Ejercicios"
   ]
  },
  {
   "cell_type": "markdown",
   "id": "e3002e8c",
   "metadata": {},
   "source": [
    "- Encontrar cual es el salario promedio por año y Grupo de los trabajos con Salario Total mayor a 100,000\n",
    "\n",
    "- Encontrar los 10 trabajos con el salario Total promedio mas alto\n",
    "\n",
    "- Encuentra los 10 departamentos con el salario total maximo más bajo y cuantos trabajadores tienen"
   ]
  },
  {
   "cell_type": "code",
   "execution_count": 33,
   "id": "99b5ad02",
   "metadata": {},
   "outputs": [],
   "source": [
    "# E1\n",
    "\n",
    "#Es necesario primero realizar este procedimiento, de lo contrario se \n",
    "#puede llegar a complicar si lo agrupamos primero\n",
    "g1=salarios[ salarios.Total_Salario>100000 ]\n",
    "\n",
    "#Ahora ya lo agrupamos y obtenemos su media\n",
    "g1=g1.groupby(['Anio','Grupo']).mean()\n",
    "\n",
    "\n",
    "g1.head(10)\n",
    "\n",
    "\n"
   ]
  },
  {
   "cell_type": "code",
   "execution_count": 60,
   "id": "46a89681",
   "metadata": {},
   "outputs": [
    {
     "data": {
      "text/html": [
       "<div>\n",
       "<style scoped>\n",
       "    .dataframe tbody tr th:only-of-type {\n",
       "        vertical-align: middle;\n",
       "    }\n",
       "\n",
       "    .dataframe tbody tr th {\n",
       "        vertical-align: top;\n",
       "    }\n",
       "\n",
       "    .dataframe thead th {\n",
       "        text-align: right;\n",
       "    }\n",
       "</style>\n",
       "<table border=\"1\" class=\"dataframe\">\n",
       "  <thead>\n",
       "    <tr style=\"text-align: right;\">\n",
       "      <th></th>\n",
       "      <th>Total_Salario</th>\n",
       "    </tr>\n",
       "    <tr>\n",
       "      <th>Trabajo</th>\n",
       "      <th></th>\n",
       "    </tr>\n",
       "  </thead>\n",
       "  <tbody>\n",
       "    <tr>\n",
       "      <th>Physician Administrator, DPH</th>\n",
       "      <td>418016.620000</td>\n",
       "    </tr>\n",
       "    <tr>\n",
       "      <th>Chief, Fire Department</th>\n",
       "      <td>330790.672000</td>\n",
       "    </tr>\n",
       "    <tr>\n",
       "      <th>Gen Mgr, Public Trnsp Dept</th>\n",
       "      <td>304913.162000</td>\n",
       "    </tr>\n",
       "    <tr>\n",
       "      <th>Mayor</th>\n",
       "      <td>287303.592000</td>\n",
       "    </tr>\n",
       "    <tr>\n",
       "      <th>Controller</th>\n",
       "      <td>275895.842000</td>\n",
       "    </tr>\n",
       "    <tr>\n",
       "      <th>Asst Chf Of Dept (Fire Dept)</th>\n",
       "      <td>273968.558667</td>\n",
       "    </tr>\n",
       "    <tr>\n",
       "      <th>Dept Head V</th>\n",
       "      <td>273736.175161</td>\n",
       "    </tr>\n",
       "    <tr>\n",
       "      <th>Chief Of Police</th>\n",
       "      <td>264098.652857</td>\n",
       "    </tr>\n",
       "    <tr>\n",
       "      <th>Chief Investment Officer</th>\n",
       "      <td>262151.437500</td>\n",
       "    </tr>\n",
       "    <tr>\n",
       "      <th>Dep Chf Of Dept (Fire Dept)</th>\n",
       "      <td>261820.954545</td>\n",
       "    </tr>\n",
       "  </tbody>\n",
       "</table>\n",
       "</div>"
      ],
      "text/plain": [
       "                              Total_Salario\n",
       "Trabajo                                    \n",
       "Physician Administrator, DPH  418016.620000\n",
       "Chief, Fire Department        330790.672000\n",
       "Gen Mgr, Public Trnsp Dept    304913.162000\n",
       "Mayor                         287303.592000\n",
       "Controller                    275895.842000\n",
       "Asst Chf Of Dept (Fire Dept)  273968.558667\n",
       "Dept Head V                   273736.175161\n",
       "Chief Of Police               264098.652857\n",
       "Chief Investment Officer      262151.437500\n",
       "Dep Chf Of Dept (Fire Dept)   261820.954545"
      ]
     },
     "execution_count": 60,
     "metadata": {},
     "output_type": "execute_result"
    }
   ],
   "source": [
    "# E2\n",
    "# Esta forma tarda mucho, mejor no usarla\n",
    "#g2=salarios.groupby('Trabajo')\n",
    "#g2=salarios.sort_values('Total_Salario',ascending=False).mean()\n",
    "#g2.head(10)\n",
    "\n",
    "salarios.groupby('Trabajo').mean()[['Total_Salario']\n",
    "                                  ].sort_values('Total_Salario', ascending= False\n",
    "                                               )[:10]"
   ]
  },
  {
   "cell_type": "code",
   "execution_count": 81,
   "id": "992e105e",
   "metadata": {},
   "outputs": [
    {
     "data": {
      "text/html": [
       "<div>\n",
       "<style scoped>\n",
       "    .dataframe tbody tr th:only-of-type {\n",
       "        vertical-align: middle;\n",
       "    }\n",
       "\n",
       "    .dataframe tbody tr th {\n",
       "        vertical-align: top;\n",
       "    }\n",
       "\n",
       "    .dataframe thead th {\n",
       "        text-align: right;\n",
       "    }\n",
       "</style>\n",
       "<table border=\"1\" class=\"dataframe\">\n",
       "  <thead>\n",
       "    <tr style=\"text-align: right;\">\n",
       "      <th></th>\n",
       "      <th>Total_Salario</th>\n",
       "    </tr>\n",
       "    <tr>\n",
       "      <th>Departamento</th>\n",
       "      <th></th>\n",
       "    </tr>\n",
       "  </thead>\n",
       "  <tbody>\n",
       "    <tr>\n",
       "      <th>AAM Asian Art Museum</th>\n",
       "      <td>206077.25</td>\n",
       "    </tr>\n",
       "    <tr>\n",
       "      <th>ADM Gen Svcs Agency-City Admin</th>\n",
       "      <td>409892.62</td>\n",
       "    </tr>\n",
       "    <tr>\n",
       "      <th>ADP Adult Probation</th>\n",
       "      <td>234168.51</td>\n",
       "    </tr>\n",
       "    <tr>\n",
       "      <th>AIR Airport Commission</th>\n",
       "      <td>334779.09</td>\n",
       "    </tr>\n",
       "    <tr>\n",
       "      <th>ART Arts Commission</th>\n",
       "      <td>175141.20</td>\n",
       "    </tr>\n",
       "    <tr>\n",
       "      <th>ASR Assessor / Recorder</th>\n",
       "      <td>193823.56</td>\n",
       "    </tr>\n",
       "    <tr>\n",
       "      <th>BOA Board Of Appeals - PAB</th>\n",
       "      <td>166476.47</td>\n",
       "    </tr>\n",
       "    <tr>\n",
       "      <th>BOS Board Of Supervisors</th>\n",
       "      <td>209373.31</td>\n",
       "    </tr>\n",
       "    <tr>\n",
       "      <th>CAT City Attorney</th>\n",
       "      <td>251444.51</td>\n",
       "    </tr>\n",
       "    <tr>\n",
       "      <th>CFC Children &amp; Families Commsn</th>\n",
       "      <td>175064.46</td>\n",
       "    </tr>\n",
       "  </tbody>\n",
       "</table>\n",
       "</div>"
      ],
      "text/plain": [
       "                                Total_Salario\n",
       "Departamento                                 \n",
       "AAM Asian Art Museum                206077.25\n",
       "ADM Gen Svcs Agency-City Admin      409892.62\n",
       "ADP Adult Probation                 234168.51\n",
       "AIR Airport Commission              334779.09\n",
       "ART Arts Commission                 175141.20\n",
       "ASR Assessor / Recorder             193823.56\n",
       "BOA Board Of Appeals - PAB          166476.47\n",
       "BOS Board Of Supervisors            209373.31\n",
       "CAT City Attorney                   251444.51\n",
       "CFC Children & Families Commsn      175064.46"
      ]
     },
     "execution_count": 81,
     "metadata": {},
     "output_type": "execute_result"
    }
   ],
   "source": [
    "# E3\n",
    "g3=salarios.groupby('Departamento')\n",
    "g3=g3[['Total_Salario']].max()\n",
    "g3=g3.sort_values\n",
    "g3.head(10)"
   ]
  },
  {
   "cell_type": "code",
   "execution_count": null,
   "id": "1b85e4db",
   "metadata": {},
   "outputs": [],
   "source": []
  },
  {
   "cell_type": "code",
   "execution_count": 85,
   "id": "8b0f7937",
   "metadata": {},
   "outputs": [
    {
     "data": {
      "text/plain": [
       "['.ipynb_checkpoints',\n",
       " '1.Variables y Operaciones.ipynb',\n",
       " '2.Estructuras de Datos y Diccionarios.ipynb',\n",
       " '3.Flujos de Control.ipynb',\n",
       " '4.Funciones y Libreria OS.ipynb',\n",
       " '5.Base de Datos.ipynb',\n",
       " '6.Dataframes.ipynb',\n",
       " '7.Ejercicios de Salarios.ipynb',\n",
       " 'auto.csv',\n",
       " 'auto1.csv',\n",
       " 'MuestraDropNa.csv',\n",
       " 'Salarios.txt',\n",
       " 'Salarios.zip',\n",
       " 'Untitled.ipynb']"
      ]
     },
     "execution_count": 85,
     "metadata": {},
     "output_type": "execute_result"
    }
   ],
   "source": [
    "os.listdir(dire)"
   ]
  }
 ],
 "metadata": {
  "kernelspec": {
   "display_name": "Python 3 (ipykernel)",
   "language": "python",
   "name": "python3"
  },
  "language_info": {
   "codemirror_mode": {
    "name": "ipython",
    "version": 3
   },
   "file_extension": ".py",
   "mimetype": "text/x-python",
   "name": "python",
   "nbconvert_exporter": "python",
   "pygments_lexer": "ipython3",
   "version": "3.9.7"
  }
 },
 "nbformat": 4,
 "nbformat_minor": 5
}
