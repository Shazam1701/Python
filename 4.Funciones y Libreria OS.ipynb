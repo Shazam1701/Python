{
 "cells": [
  {
   "cell_type": "markdown",
   "id": "6bb555ee",
   "metadata": {},
   "source": [
    "# Creacion de Funciones"
   ]
  },
  {
   "cell_type": "markdown",
   "id": "31e2d8a3",
   "metadata": {},
   "source": [
    "Para crear una funcion hacemos uso de una palabra reservada la cual es **def**.\n",
    "\n",
    "La estructura con la cual se crea una funcion es la siguiente:\n",
    "\n",
    "*def nombre_funcion(inp_1, inp_2, ....., inp_n= default):\n",
    "    comandos de la función\n",
    "    return(objeto)*  \n",
    "\n",
    "Se agrega el comando **return** si nos interesa que la función regrese algun objeto que se haya obtenido dentro del proceso.\n",
    "\n"
   ]
  },
  {
   "cell_type": "markdown",
   "id": "5c06adff",
   "metadata": {},
   "source": [
    "### Ejemplo: Funcion sencilla"
   ]
  },
  {
   "cell_type": "code",
   "execution_count": 2,
   "id": "9d24217f",
   "metadata": {},
   "outputs": [],
   "source": [
    "def sum_3num(n1,n2,n3):\n",
    "    suma=n1+n2+n3\n",
    "    return(suma)"
   ]
  },
  {
   "cell_type": "code",
   "execution_count": 3,
   "id": "e68dea78",
   "metadata": {},
   "outputs": [
    {
     "data": {
      "text/plain": [
       "30"
      ]
     },
     "execution_count": 3,
     "metadata": {},
     "output_type": "execute_result"
    }
   ],
   "source": [
    "sum_3num(5,10,15)"
   ]
  },
  {
   "cell_type": "code",
   "execution_count": 23,
   "id": "37e5244f",
   "metadata": {},
   "outputs": [],
   "source": [
    "def sum_Num(*args):\n",
    "    args=list(args)\n",
    "    suma=sum(args)\n",
    "    return(suma)"
   ]
  },
  {
   "cell_type": "code",
   "execution_count": 24,
   "id": "97cc6af6",
   "metadata": {},
   "outputs": [
    {
     "name": "stdout",
     "output_type": "stream",
     "text": [
      "3\n",
      "8\n",
      "20\n"
     ]
    }
   ],
   "source": [
    "print(sum_Num(3))\n",
    "print(sum_Num(3,5))\n",
    "print(sum_Num(3,5,12))"
   ]
  },
  {
   "cell_type": "markdown",
   "id": "ca1e3a81",
   "metadata": {},
   "source": [
    "Como se ve en el chunck anterior podemos hacer uso de este recurso cuando es menester tener que realizar un proceso en cocnreto de manera simultanea en diferentes partes de nuestro codigo, esto evitara la tarea de tener que traer el codigo varias veces y simpleemnte ejecutarlo una sola vez para mandarlo a llamar cuando se requiera utilizar. "
   ]
  },
  {
   "cell_type": "markdown",
   "id": "6fe9483e",
   "metadata": {},
   "source": [
    "### Ejemplo: Funcion Calculadora"
   ]
  },
  {
   "cell_type": "code",
   "execution_count": 14,
   "id": "65145abc",
   "metadata": {},
   "outputs": [],
   "source": [
    "def calculadora():\n",
    "    dic_num=dict(zip(['Suma','Resta','Multiplicacion','Division'],\n",
    "                 ['s','r','m','d']))\n",
    "    print(dic_num)\n",
    "\n",
    "    print('------------------')\n",
    "    r=input('¿Que tipo de operacion deseas realizar realizar? Oprima la letra correspondiente')\n",
    "\n",
    "\n",
    "\n",
    "    if r=='s':\n",
    "        num=int(input('¿Cuantos numeros deseas sumar?'))\n",
    "        suma=0\n",
    "        for i in range(num):\n",
    "            n=int(input('Ingrese un numero: '))\n",
    "            suma=suma+n\n",
    "        print('La suma es: '+ str(suma))\n",
    "    else:\n",
    "        if r=='r':\n",
    "            num=2\n",
    "            n1=int(input('Ingrese un numero: '))\n",
    "            n2=int(input('Ingrese un numero: '))\n",
    "            resta=n1-n2\n",
    "            print('La resta es: '+ str(resta))\n",
    "        else:\n",
    "            if r=='m':\n",
    "                num=int(input('¿Cuantos numeros deseas multiplicar?'))\n",
    "                mult=1\n",
    "                for i in range(num):\n",
    "                    n=int(input('Ingrese un numero: '))\n",
    "                    mult=mult*n\n",
    "                print('el resultado es: '+ str(mult))\n",
    "            else:\n",
    "                if r=='d':\n",
    "                    num=2\n",
    "                    n1=int(input('Ingrese un numero: '))\n",
    "                    n2=int(input('Ingrese un numero: '))\n",
    "                    div=n1/n2\n",
    "                    print('El resultado es: '+ str(div))  "
   ]
  },
  {
   "cell_type": "code",
   "execution_count": 15,
   "id": "5e99670e",
   "metadata": {},
   "outputs": [
    {
     "name": "stdout",
     "output_type": "stream",
     "text": [
      "{'Suma': 's', 'Resta': 'r', 'Multiplicacion': 'm', 'Division': 'd'}\n",
      "------------------\n",
      "¿Que tipo de operacion deseas realizar realizar? Oprima la letra correspondienter\n",
      "Ingrese un numero: 6\n",
      "Ingrese un numero: 2\n",
      "La resta es: 4\n"
     ]
    }
   ],
   "source": [
    "calculadora()"
   ]
  },
  {
   "cell_type": "markdown",
   "id": "24f5d006",
   "metadata": {},
   "source": [
    "### Ejemplo: Funcion de Fibonacci"
   ]
  },
  {
   "cell_type": "markdown",
   "id": "36ca5f01",
   "metadata": {},
   "source": [
    "Generar una funcion para obtener los primeros elementos hasta el menor o igual que k de la sucesion de Fibonacci.\n",
    "\n",
    "La sucesion de Fibonacci sigue este orden: 0,1,1,2,3,5,8,13,21,34,55,89,..."
   ]
  },
  {
   "cell_type": "code",
   "execution_count": 50,
   "id": "45fe27c8",
   "metadata": {},
   "outputs": [],
   "source": [
    "def fibonacci(n):\n",
    "    l=[0,1]\n",
    "    if n>2:\n",
    "        for i in range(n-2):\n",
    "            l.append(l[i]+l[i+1])\n",
    "        print(l)\n",
    "    else:\n",
    "        if n==2:\n",
    "            print(l)\n",
    "        else:\n",
    "            if n==1:\n",
    "                print(l[0])"
   ]
  },
  {
   "cell_type": "code",
   "execution_count": 55,
   "id": "50013ed7",
   "metadata": {},
   "outputs": [
    {
     "name": "stdout",
     "output_type": "stream",
     "text": [
      "[0, 1, 1, 2, 3, 5, 8, 13, 21, 34, 55, 89, 144, 233, 377]\n"
     ]
    }
   ],
   "source": [
    "fibonacci(15)"
   ]
  },
  {
   "cell_type": "markdown",
   "id": "8836566d",
   "metadata": {},
   "source": [
    "# Libreria OS"
   ]
  },
  {
   "cell_type": "markdown",
   "id": "af311239",
   "metadata": {},
   "source": [
    "La libreria OS nos permite acceder a funcionalidades dependientes del Sistema Operativo. Sobre todo, aquellas que nos refieren información sobre el entorno del mismo y nos permiten manipular la estructura de directorios como leer y escribir archivos."
   ]
  },
  {
   "cell_type": "code",
   "execution_count": 56,
   "id": "16b7454e",
   "metadata": {},
   "outputs": [],
   "source": [
    "# Importamos la libreria\n",
    "import os"
   ]
  },
  {
   "cell_type": "markdown",
   "id": "e9ba3842",
   "metadata": {},
   "source": [
    "Podemos obteenr el directorio actual de trabajo por medio de la funcion **getcwd()** "
   ]
  },
  {
   "cell_type": "code",
   "execution_count": 57,
   "id": "cfc19eb1",
   "metadata": {},
   "outputs": [
    {
     "name": "stdout",
     "output_type": "stream",
     "text": [
      "C:\\Users\\Lenovo\\Documents\\Profesional\\Repositorio\\Python\\Jupyter Notebook-Ciencia de Datos\n"
     ]
    }
   ],
   "source": [
    "print(os.getcwd())"
   ]
  },
  {
   "cell_type": "code",
   "execution_count": 58,
   "id": "7588c4a2",
   "metadata": {},
   "outputs": [
    {
     "name": "stdout",
     "output_type": "stream",
     "text": [
      " Actualmente estas trabajando en el siguiente directorio: C:\\Users\\Lenovo\\Documents\\Profesional\\Repositorio\\Python\\Jupyter Notebook-Ciencia de Datos\n"
     ]
    }
   ],
   "source": [
    "dir= os.getcwd()  # Dire es una variable de texto (str)\n",
    "print(\" Actualmente estas trabajando en el siguiente directorio: \" + dir)"
   ]
  },
  {
   "cell_type": "markdown",
   "id": "3012bf99",
   "metadata": {},
   "source": [
    "Ademas, podemos conocer los archivos que hay dentro de una carpeta y movernos entre ellas con la funcion **listdir()**"
   ]
  },
  {
   "cell_type": "code",
   "execution_count": 60,
   "id": "aea32c0a",
   "metadata": {},
   "outputs": [
    {
     "data": {
      "text/plain": [
       "['.ipynb_checkpoints',\n",
       " '1.Variables y Operaciones.ipynb',\n",
       " '2.Estructuras de Datos y Diccionarios.ipynb',\n",
       " '3.Flujos de Control.ipynb',\n",
       " '4.Funciones y Libreria OS.ipynb']"
      ]
     },
     "execution_count": 60,
     "metadata": {},
     "output_type": "execute_result"
    }
   ],
   "source": [
    "#Lista de Archivos dentro del directorio Actual\n",
    "os.listdir(dir)"
   ]
  },
  {
   "cell_type": "code",
   "execution_count": 62,
   "id": "15998090",
   "metadata": {},
   "outputs": [
    {
     "data": {
      "text/plain": [
       "['Jupyter Notebook-Ciencia de Datos', 'PyCharm-Principiante']"
      ]
     },
     "execution_count": 62,
     "metadata": {},
     "output_type": "execute_result"
    }
   ],
   "source": [
    "#Para moverse dentro de una carpeta hacia atras hacemos lo siguiente\n",
    "os.listdir(dir + \"\\\\..\")  \n"
   ]
  },
  {
   "cell_type": "code",
   "execution_count": null,
   "id": "f38168e8",
   "metadata": {},
   "outputs": [],
   "source": [
    "os.listdir(dir + \"\\\\..\")  "
   ]
  },
  {
   "cell_type": "markdown",
   "id": "af5ff532",
   "metadata": {},
   "source": [
    "La libreria OS es muy amplia, si se desea saber más sobre ella para sacar al maximo provecho su funcionalidad podemos visitar la siguiente pagina:\n",
    "\n",
    "[Mas funciones de OS](https://docs.python.org/3/library/os.html)"
   ]
  }
 ],
 "metadata": {
  "kernelspec": {
   "display_name": "Python 3 (ipykernel)",
   "language": "python",
   "name": "python3"
  },
  "language_info": {
   "codemirror_mode": {
    "name": "ipython",
    "version": 3
   },
   "file_extension": ".py",
   "mimetype": "text/x-python",
   "name": "python",
   "nbconvert_exporter": "python",
   "pygments_lexer": "ipython3",
   "version": "3.9.7"
  }
 },
 "nbformat": 4,
 "nbformat_minor": 5
}
