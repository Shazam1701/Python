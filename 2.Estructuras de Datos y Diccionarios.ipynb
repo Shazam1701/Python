{
 "cells": [
  {
   "cell_type": "markdown",
   "id": "7176ac98",
   "metadata": {},
   "source": [
    "# Estructuras de Datos"
   ]
  },
  {
   "cell_type": "markdown",
   "id": "ad724af8",
   "metadata": {},
   "source": [
    "## Listas"
   ]
  },
  {
   "cell_type": "markdown",
   "id": "1ec4ea90",
   "metadata": {},
   "source": [
    "Las listas son un conjunto de variables (de cualquier tipo de dato). Para declarar una lista se usan corchetes [  ]"
   ]
  },
  {
   "cell_type": "code",
   "execution_count": 90,
   "id": "e34a1aa9",
   "metadata": {},
   "outputs": [
    {
     "data": {
      "text/plain": [
       "[1, 2, 3, 4, 5, 6, 7, 8, 9]"
      ]
     },
     "execution_count": 90,
     "metadata": {},
     "output_type": "execute_result"
    }
   ],
   "source": [
    "l1=[1,2,3,4,5,6,7,8,9]\n",
    "l1"
   ]
  },
  {
   "cell_type": "code",
   "execution_count": 2,
   "id": "a5dac2a5",
   "metadata": {},
   "outputs": [
    {
     "data": {
      "text/plain": [
       "[3, True, 'Python']"
      ]
     },
     "execution_count": 2,
     "metadata": {},
     "output_type": "execute_result"
    }
   ],
   "source": [
    "l2=[3,True,'Python']\n",
    "l2"
   ]
  },
  {
   "cell_type": "code",
   "execution_count": 3,
   "id": "d121e67e",
   "metadata": {},
   "outputs": [
    {
     "name": "stdout",
     "output_type": "stream",
     "text": [
      "Tipo de objeto de l1: <class 'list'>\n",
      "Tipo de objeto de l1: <class 'list'>\n"
     ]
    }
   ],
   "source": [
    "print('Tipo de objeto de l1: {}'.format(type(l1)))\n",
    "print('Tipo de objeto de l1: {}'.format(type(l2)))"
   ]
  },
  {
   "cell_type": "markdown",
   "id": "3636ce8b",
   "metadata": {},
   "source": [
    "Podemos acceder a cualquier elemento dentro de una lista, indicando la posicion que queremos exraer. Recordando que se inicia desde la posicion 0, no desde el 1."
   ]
  },
  {
   "cell_type": "code",
   "execution_count": 7,
   "id": "a4b120ce",
   "metadata": {},
   "outputs": [
    {
     "name": "stdout",
     "output_type": "stream",
     "text": [
      "1\n",
      "<class 'int'>\n",
      "<class 'bool'>\n",
      "<class 'str'>\n",
      "<class 'list'>\n"
     ]
    }
   ],
   "source": [
    "print(  l1[0]  )          # Primer elemento de la lista l1\n",
    "print(  type( l1[0] ) )   # entero\n",
    "print(  type( l2[1] ) )   # booleano\n",
    "print(  type( l2[2] ) )   # caracter\n",
    "print(  type(l1[0:3])  )  #lista"
   ]
  },
  {
   "cell_type": "markdown",
   "id": "ef71196d",
   "metadata": {},
   "source": [
    "Tambien podemos extraer elementos de nuestra lista en sentido inverso, esto se logra haciendo uso de numeros negativos"
   ]
  },
  {
   "cell_type": "code",
   "execution_count": 13,
   "id": "405f8de8",
   "metadata": {},
   "outputs": [
    {
     "name": "stdout",
     "output_type": "stream",
     "text": [
      "[1, 2, 3, 4, 5, 6, 7, 8, 9]\n",
      "[3, 4, 5, 6]\n",
      "-----------\n",
      "[7, 8, 9]\n",
      "[1, 2, 3, 4, 5, 6]\n"
     ]
    }
   ],
   "source": [
    "## Extracción con negativos\n",
    "print(l1)\n",
    "print(l1[-7:-3])\n",
    "print('-----------')\n",
    "print(l1[6:])    # Elemento 6 hasta el último elemento\n",
    "print(l1[:-3])   # Elemento 0 hasta el elemento -6-1= -7"
   ]
  },
  {
   "cell_type": "markdown",
   "id": "5ed173ce",
   "metadata": {},
   "source": [
    "**Ejercicio:** Extraer en una variable que se llame filtro los valores 7,6 y 5 de la lista l1 usando numeros negatvitos"
   ]
  },
  {
   "cell_type": "code",
   "execution_count": 48,
   "id": "bba4540c",
   "metadata": {},
   "outputs": [
    {
     "name": "stdout",
     "output_type": "stream",
     "text": [
      "[5, 6, 7]\n"
     ]
    }
   ],
   "source": [
    "filtro=l1[-5:-2]\n",
    "print(filtro)"
   ]
  },
  {
   "cell_type": "code",
   "execution_count": 49,
   "id": "f746aa97",
   "metadata": {},
   "outputs": [
    {
     "name": "stdout",
     "output_type": "stream",
     "text": [
      "El numero de elementos que contiene l1 son:  9\n"
     ]
    }
   ],
   "source": [
    "# Longitud de una lista\n",
    "print('El numero de elementos que contiene l1 son: ',format(len(l1)))"
   ]
  },
  {
   "cell_type": "code",
   "execution_count": 50,
   "id": "c0e1aade",
   "metadata": {},
   "outputs": [
    {
     "name": "stdout",
     "output_type": "stream",
     "text": [
      "[1, 2, 3, 89, 5, 6, 7, 8, 9]\n"
     ]
    }
   ],
   "source": [
    "#Modificar elementos dentro de una lista\n",
    "l1[3]=89\n",
    "print(l1)"
   ]
  },
  {
   "cell_type": "code",
   "execution_count": 72,
   "id": "0c66b296",
   "metadata": {},
   "outputs": [
    {
     "name": "stdout",
     "output_type": "stream",
     "text": [
      "[1, 2, 3, 4, 5, 6, 7, 8, 9]\n",
      "[1, 2, 3, 4, 5, 6, 7, 8, 9, True]\n",
      "[1, 2, 3, 4, 5, 6, 7, 8, 9, True, 15]\n"
     ]
    }
   ],
   "source": [
    "#Agregar elementos al final de una lista\n",
    "print(l1)\n",
    "l1.append(True)\n",
    "print(l1)\n",
    "l1.append(15)\n",
    "print(l1)"
   ]
  },
  {
   "cell_type": "code",
   "execution_count": 73,
   "id": "35a4466c",
   "metadata": {},
   "outputs": [
    {
     "name": "stdout",
     "output_type": "stream",
     "text": [
      "[1, 2, 3, 4, 5, 6, 7, 8, 9, True, 15]\n",
      "[2, 3, 4, 5, 6, 7, 8, 9, True, 15]\n",
      "--------\n",
      "[2, 3, 4, 5, 7, 8, 9, True, 15]\n",
      "--------\n",
      "False\n",
      "True\n"
     ]
    }
   ],
   "source": [
    "#Eliminar elementos de una lista (cuando sabemos previamente el valro que deseamos quitar)\n",
    "print(l1)\n",
    "l1.remove(True)\n",
    "print(l1)\n",
    "\n",
    "print('--------')\n",
    "\n",
    "#Tambien podemos eliminar elementos a partir de su posicion\n",
    "l1.pop(4)  # Si no escribimos un índice \"l1.pop()\" se elimina el último elemento\n",
    "print(l1)\n",
    "\n",
    "print('--------')\n",
    "#Tambien podemos verificar si los valores dentro de la lista se encuentran o no, con print\n",
    "print('Hola' in l1)\n",
    "print(15 in l1)"
   ]
  },
  {
   "cell_type": "code",
   "execution_count": 74,
   "id": "e50f60c5",
   "metadata": {},
   "outputs": [
    {
     "name": "stdout",
     "output_type": "stream",
     "text": [
      "[15, 9, 8, 7, 5, 4, 3, 2, True]\n",
      "[True, 2, 3, 4, 5, 7, 8, 9, 15]\n"
     ]
    }
   ],
   "source": [
    "# Ordenamiento de una lista\n",
    "\n",
    "print(sorted(l1,reverse=True))\n",
    "print(sorted(l1,reverse=False))"
   ]
  },
  {
   "cell_type": "markdown",
   "id": "4b31665c",
   "metadata": {},
   "source": [
    "Tambien podemos encontrar la posicion de un elemento dentro de la lista con la funcion **index**, en caso de no encontrarse dentro de la lista, la funcion regresara un mensaje de error"
   ]
  },
  {
   "cell_type": "code",
   "execution_count": 91,
   "id": "a80e51e8",
   "metadata": {},
   "outputs": [
    {
     "name": "stdout",
     "output_type": "stream",
     "text": [
      "El elemento SSD se encuentra en la posicion 5\n"
     ]
    }
   ],
   "source": [
    "l2=[1,'Disco',3,'HDD',5,'SSD',7,'USB',9]\n",
    "\n",
    "print('El elemento SSD se encuentra en la posicion {}'.format(l2.index('SSD')))\n"
   ]
  },
  {
   "cell_type": "markdown",
   "id": "0b4cd4a7",
   "metadata": {},
   "source": [
    "## Copiar una lista\n",
    "\n",
    "Podemos hacer una copia de la lista que estamos manejando, de diferentes maneras:"
   ]
  },
  {
   "cell_type": "code",
   "execution_count": 96,
   "id": "9084e2aa",
   "metadata": {},
   "outputs": [
    {
     "name": "stdout",
     "output_type": "stream",
     "text": [
      "--- Listas originales----\n",
      "[3, 5, 2, 3, 6, 9, 7, 4, 7, 9]\n",
      "[3, 5, 2, 3, 6, 9, 7, 4, 7, 9]\n",
      "--- Listas con cambios----\n",
      "[5, 2, 3, 6, 9, 7, 4, 7, 9]\n",
      "[5, 2, 3, 6, 9, 7, 4, 7, 9]\n"
     ]
    }
   ],
   "source": [
    "#Copiar Espejo\n",
    "a= [3,5,2,3,6,9,7,4,7,9]\n",
    "b= a\n",
    "\n",
    "print('--- Listas originales----'); print(a); print(b)\n",
    "b.remove(3)\n",
    "print('--- Listas con cambios----'); print(a); print(b)"
   ]
  },
  {
   "cell_type": "code",
   "execution_count": 97,
   "id": "db71e136",
   "metadata": {},
   "outputs": [
    {
     "name": "stdout",
     "output_type": "stream",
     "text": [
      "--- Listas originales con la función copy()----\n",
      "[5, 2, 3, 6, 9, 7, 4, 7, 9]\n",
      "[5, 2, 3, 6, 9, 7, 4, 7, 9]\n",
      "--- Listas con cambios----\n",
      "[5, 2, 3, 6, 9, 7, 4, 7, 9]\n",
      "[5, 2, 6, 9, 7, 4, 7, 9]\n"
     ]
    }
   ],
   "source": [
    "## Copia Independiente\n",
    "b= a.copy()\n",
    "print('--- Listas originales con la función copy()----'); print(a); print(b)\n",
    "b.remove(3)\n",
    "print('--- Listas con cambios----'); print(a); print(b)"
   ]
  },
  {
   "cell_type": "markdown",
   "id": "e6cb6785",
   "metadata": {},
   "source": [
    "Podemos ver como en el primer caso, al afectar lista b la lista a tambein se ve afectada, caso contrario en el segundo tipo de copia, donde se trabajan de manera independiente ambas."
   ]
  },
  {
   "cell_type": "markdown",
   "id": "0358ece5",
   "metadata": {},
   "source": [
    "## Diccionarios\n",
    "\n",
    "En Python un diccionario es una coleccion de valores a los cuales se puede acceder a traves de una llave, a continuacion se mostrara un ejemplo:"
   ]
  },
  {
   "cell_type": "code",
   "execution_count": 101,
   "id": "fb6614c5",
   "metadata": {},
   "outputs": [
    {
     "data": {
      "text/plain": [
       "{'Amigos': 'Entre menos ienes mas valiosos son',\n",
       " 'Actuaria': 'La persistencia siempre paga',\n",
       " 'Tiempo': 'Si no me lo preguntas lo se, si me lo preguntas no lo se'}"
      ]
     },
     "execution_count": 101,
     "metadata": {},
     "output_type": "execute_result"
    }
   ],
   "source": [
    "dic={'Amigos': 'Entre menos ienes mas valiosos son',\n",
    "     'Actuaria': 'La persistencia siempre paga',\n",
    "     'Tiempo': 'Si no me lo preguntas lo se, si me lo preguntas no lo se'   \n",
    "}\n",
    "\n",
    "dic"
   ]
  },
  {
   "cell_type": "code",
   "execution_count": 102,
   "id": "1472029e",
   "metadata": {},
   "outputs": [
    {
     "data": {
      "text/plain": [
       "{'Amigos': 'Entre menos ienes mas valiosos son',\n",
       " 'Actuaria': 'La persistencia siempre paga',\n",
       " 'Tiempo': 'Si no me lo preguntas lo se, si me lo preguntas no lo se',\n",
       " 'Vida': 'Solo hay una'}"
      ]
     },
     "execution_count": 102,
     "metadata": {},
     "output_type": "execute_result"
    }
   ],
   "source": [
    "#Agregar elementos\n",
    "dic['Vida']='Solo hay una'\n",
    "dic\n"
   ]
  },
  {
   "cell_type": "markdown",
   "id": "f2e23597",
   "metadata": {},
   "source": [
    "Tambien podemos geenrar diccionarios con el comando **dict** o con listas"
   ]
  },
  {
   "cell_type": "code",
   "execution_count": 109,
   "id": "826f4e8a",
   "metadata": {},
   "outputs": [
    {
     "data": {
      "text/plain": [
       "{'Marco': '1', 'Antonio': '2', 'Carrillo': '3', 'Izquierdo': '4'}"
      ]
     },
     "execution_count": 109,
     "metadata": {},
     "output_type": "execute_result"
    }
   ],
   "source": [
    "dict(zip(['Marco','Antonio','Carrillo','Izquierdo'],'1234'))"
   ]
  },
  {
   "cell_type": "code",
   "execution_count": 110,
   "id": "6708454d",
   "metadata": {},
   "outputs": [
    {
     "data": {
      "text/plain": [
       "{'Nombres': ['Marco', 'Daniel', 'Ana', 'Joana'],\n",
       " 'Apellidos': ['Carrillo', 'Lara', 'Hernandez', 'Martinez'],\n",
       " 'Calificacion': [10, 9, 10, 8]}"
      ]
     },
     "execution_count": 110,
     "metadata": {},
     "output_type": "execute_result"
    }
   ],
   "source": [
    "#Dicionario con listas\n",
    "dic_nom={'Nombres': ['Marco','Daniel','Ana','Joana'],\n",
    "         'Apellidos': ['Carrillo','Lara','Hernandez','Martinez'],\n",
    "         'Calificacion': [10,9,10,8]\n",
    "        }\n",
    "\n",
    "dic_nom"
   ]
  },
  {
   "cell_type": "markdown",
   "id": "b397a886",
   "metadata": {},
   "source": [
    "Para acceder a los datos de un diccionario introducimos el valor que buscamos dentro de corchetes"
   ]
  },
  {
   "cell_type": "code",
   "execution_count": 112,
   "id": "7875e8da",
   "metadata": {},
   "outputs": [
    {
     "data": {
      "text/plain": [
       "['Marco', 'Daniel', 'Ana', 'Joana']"
      ]
     },
     "execution_count": 112,
     "metadata": {},
     "output_type": "execute_result"
    }
   ],
   "source": [
    "dic_nom['Nombres']\n"
   ]
  },
  {
   "cell_type": "markdown",
   "id": "baa5510b",
   "metadata": {},
   "source": [
    "Tambien podemos evaluar si una llave que buscamos se encuentra o no dentro de un diccionario"
   ]
  },
  {
   "cell_type": "code",
   "execution_count": 113,
   "id": "1a80cf73",
   "metadata": {},
   "outputs": [
    {
     "name": "stdout",
     "output_type": "stream",
     "text": [
      "False\n",
      "True\n"
     ]
    }
   ],
   "source": [
    "print('Gustos' in dic_nom)\n",
    "\n",
    "print('Nombres' in dic_nom)"
   ]
  },
  {
   "cell_type": "markdown",
   "id": "a1ce4296",
   "metadata": {},
   "source": [
    "Si se deseara obtener las llaves de un diccionario podemos hacer uso de la funcion **keys()**  y para conocer los valores la funcion **values()**"
   ]
  },
  {
   "cell_type": "code",
   "execution_count": 116,
   "id": "8fa48d12",
   "metadata": {},
   "outputs": [
    {
     "name": "stdout",
     "output_type": "stream",
     "text": [
      "dict_keys(['Nombres', 'Apellidos', 'Calificacion'])\n",
      "--------\n",
      "dict_values([['Marco', 'Daniel', 'Ana', 'Joana'], ['Carrillo', 'Lara', 'Hernandez', 'Martinez'], [10, 9, 10, 8]])\n"
     ]
    }
   ],
   "source": [
    "print(dic_nom.keys())\n",
    "print('--------')\n",
    "print(dic_nom.values())"
   ]
  }
 ],
 "metadata": {
  "kernelspec": {
   "display_name": "Python 3 (ipykernel)",
   "language": "python",
   "name": "python3"
  },
  "language_info": {
   "codemirror_mode": {
    "name": "ipython",
    "version": 3
   },
   "file_extension": ".py",
   "mimetype": "text/x-python",
   "name": "python",
   "nbconvert_exporter": "python",
   "pygments_lexer": "ipython3",
   "version": "3.9.7"
  }
 },
 "nbformat": 4,
 "nbformat_minor": 5
}
