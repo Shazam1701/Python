{
 "cells": [
  {
   "cell_type": "markdown",
   "id": "538411cd",
   "metadata": {},
   "source": [
    "# Introduccion a Jupyter Notebook"
   ]
  },
  {
   "cell_type": "markdown",
   "id": "4e2d8f81",
   "metadata": {},
   "source": [
    "## Primeros comandos "
   ]
  },
  {
   "cell_type": "markdown",
   "id": "1cad42b3",
   "metadata": {},
   "source": [
    "En estas lineas de codigo introduciremos los primeros conceptos, elementos, \n",
    "formas de trabajo, etc. Es decir todo lo propiamente necesario para comenzar\n",
    "a programar en Jupyter Notebook."
   ]
  },
  {
   "cell_type": "markdown",
   "id": "e4e69f96",
   "metadata": {},
   "source": [
    "## Temario \n",
    "\n",
    "1. Tipografía LaTeX\n",
    "2. Tipo de Variables\n",
    "    - String\n",
    "    - Numericas\n",
    "    - Booleanas\n",
    "3. Operadores\n",
    "    - Algebraicos\n",
    "    - Logicos\n",
    "4. Primeras funciones\n"
   ]
  },
  {
   "cell_type": "markdown",
   "id": "a688474b",
   "metadata": {},
   "source": [
    "# Tipografía de LaTeX en Jupyter Notebook\n",
    "\n",
    "Para escribir textos que tenga simbolos matemáticos, Jupyter se apoya de la \n",
    "sintaxis que utiliza LaTeX, apoyandose del uso del simbolo $.\n",
    "A continuacion se muestran algunos ejemplos:\n",
    "    \n",
    "Esta es una formula:\n",
    "    $x+y=2$\n",
    "\n",
    "Subindices:\n",
    "    $x_i+y_i=1$\n",
    "\n",
    "Superindices:\n",
    "    $x^i+y^i=1$\n",
    "    \n",
    "Las llaves indican que el texto contenido dentreo de ellas se aplicara a\n",
    "lo que queremos utilizar:\n",
    "    $e^{x_1+y_2}+1$\n",
    "    \n",
    "El simbolo **\"&\"** sirve para separar columnas y el simbolo **\"\\\\\\\\\"** \n",
    "sirve para separar filas\n",
    "\n",
    "La utilidad de hacer uso del lenguaje R es las bastas posibilidades de poder\n",
    "darle una mejor presentacion a las formulas o estructuras matemáticas que en\n",
    "otros software no sería posible, o se dificultaría mucho.\n",
    "\n",
    "Ejemplo de una Matriz:\n",
    "    $\\left[\n",
    "      \\begin{matrix} \n",
    "      a & b & c & x \\\\\n",
    "      d & e & f & y \\\\\n",
    "      1 & 2 & 3 & 4 \\\\\n",
    "      M & A & C & I\n",
    "      \\end{matrix} \n",
    "      \\right]$\n",
    "    \n",
    "    Ejemplo de una integral:\n",
    "    \n",
    "$F_3(x)=\\int_{1/2}^{x}\\!8(1-t) \\,dt=8(x- \\frac{x^{2}}{2} - \\frac{3}{8}) \\quad 1/2<x<1$"
   ]
  },
  {
   "cell_type": "code",
   "execution_count": 11,
   "id": "60fb0336",
   "metadata": {
    "collapsed": true
   },
   "outputs": [
    {
     "data": {
      "text/plain": [
       "['Requirement already satisfied: numpy in c:\\\\users\\\\lenovo\\\\anaconda3\\\\lib\\\\site-packages (1.20.3)']"
      ]
     },
     "execution_count": 11,
     "metadata": {},
     "output_type": "execute_result"
    }
   ],
   "source": [
    "!! pip install pandas\n",
    "!! pip install numpy"
   ]
  },
  {
   "cell_type": "code",
   "execution_count": 13,
   "id": "1e6a4c69",
   "metadata": {},
   "outputs": [],
   "source": [
    "import pandas as pd\n",
    "import numpy as np"
   ]
  },
  {
   "cell_type": "markdown",
   "id": "7f92e738",
   "metadata": {},
   "source": [
    "# Tipo de Variables\n",
    "\n",
    "## Variables String"
   ]
  },
  {
   "cell_type": "code",
   "execution_count": 15,
   "id": "601c48c8",
   "metadata": {},
   "outputs": [
    {
     "name": "stdout",
     "output_type": "stream",
     "text": [
      "<class 'str'>\n",
      "Texto\n"
     ]
    }
   ],
   "source": [
    "x='Hola Mundo'\n",
    "\n",
    "## Uso de la funcion 'type' la cual indica el tipo de dato de una variable\n",
    "\n",
    "tipo_x=type(x)\n",
    "print(tipo_x)\n",
    "print('Texto')"
   ]
  },
  {
   "cell_type": "code",
   "execution_count": 16,
   "id": "5f41cfb8",
   "metadata": {},
   "outputs": [
    {
     "name": "stdout",
     "output_type": "stream",
     "text": [
      "Tipo de dato de la variable x: <class 'str'>\n"
     ]
    }
   ],
   "source": [
    "#Para gregar variables dentro dl texto de un comando rpint usamos llaves en\n",
    "#la posicion donde queremos que aparezca la variable y terminando el texto\n",
    "#agregamos la funcion .format(variable)\n",
    "\n",
    "\n",
    "print('Tipo de dato de la variable x: {}'.format(tipo_x))"
   ]
  },
  {
   "cell_type": "code",
   "execution_count": 17,
   "id": "2c1c8fb4",
   "metadata": {},
   "outputs": [
    {
     "name": "stdout",
     "output_type": "stream",
     "text": [
      "Hola ¿Como estas?\n"
     ]
    }
   ],
   "source": [
    "#Concatenar variables de texto\n",
    "#Las variables de texto se concatenana con el simbolo '+'\n",
    "\n",
    "saludo='Hola'+' '+'¿Como estas?'\n",
    "\n",
    "print(saludo)"
   ]
  },
  {
   "cell_type": "code",
   "execution_count": 23,
   "id": "a23ba0b1",
   "metadata": {},
   "outputs": [
    {
     "name": "stdout",
     "output_type": "stream",
     "text": [
      "La longitud de la variable x es: 10\n"
     ]
    }
   ],
   "source": [
    "#Longitud de una variable de texto (len)\n",
    "\n",
    "longitud_x = len(x)\n",
    "\n",
    "print('La longitud de la variable x es: {}'.format(longitud_x))"
   ]
  },
  {
   "cell_type": "code",
   "execution_count": 30,
   "id": "f238b846",
   "metadata": {},
   "outputs": [
    {
     "name": "stdout",
     "output_type": "stream",
     "text": [
      "Hola\n",
      "¿Como estas?\n"
     ]
    }
   ],
   "source": [
    "## Subtexto\n",
    "\n",
    "# En Python las cadenas de texto comienzan en la posicion 0, una variable \n",
    "# de texto es similar a una cadena de simbolos por lo que\n",
    "\n",
    "#  \"H-o-l-a- -M-u-n-d-o\"\n",
    "#   0-1-2-3-4-5-6-7-8-9\n",
    "\n",
    "# Para extraer una subcadena se usan los corchetes y la posicion del subtexto:\n",
    "# - cadena[j] Extraer la posición j de la cadena\n",
    "# - cadena[j:l] Extraer el texto desde la posición j hasta la posición l-1\n",
    "\n",
    "#Este dato es importante mencionarlo puesto que en otros lenguajes de programacion\n",
    "#se inicia en la posicon 1, un ejemplo de ello es R.\n",
    "x='Hola'\n",
    "y='¿Como estas?'\n",
    "saludo=x+' '+y\n",
    "v1=saludo[0:4]\n",
    "v2=saludo[5:17]\n",
    "print(v1)\n",
    "print(v2)\n",
    "\n"
   ]
  },
  {
   "cell_type": "code",
   "execution_count": 32,
   "id": "68c2b01e",
   "metadata": {},
   "outputs": [
    {
     "name": "stdout",
     "output_type": "stream",
     "text": [
      "La palabra enchiladas comienza en la posicion: 27\n"
     ]
    },
    {
     "data": {
      "text/plain": [
       "'enchiladas'"
      ]
     },
     "execution_count": 32,
     "metadata": {},
     "output_type": "execute_result"
    }
   ],
   "source": [
    "# Para encontrar la posicion de una palabra usamos la funcion 'find()'\n",
    "\n",
    "#Buscamos una subcadema\n",
    "texto='Mi comida favorita son las enchiladas'\n",
    "\n",
    "#Buscamos una palabra y la extraemos\n",
    "palabra=texto.find('enchiladas')\n",
    "\n",
    "print('La palabra enchiladas comienza en la posicion: {}'.format(palabra))\n",
    "\n",
    "#Ahora podemos extrerla de una forma manual\n",
    "texto[27:(27+len('enchiladas'))]\n"
   ]
  },
  {
   "cell_type": "code",
   "execution_count": 41,
   "id": "de5e8fe0",
   "metadata": {},
   "outputs": [
    {
     "data": {
      "text/plain": [
       "-1"
      ]
     },
     "execution_count": 41,
     "metadata": {},
     "output_type": "execute_result"
    }
   ],
   "source": [
    "#Si se llegara a dar el caso en que la palabra buscada no se encuentra\n",
    "#dentro del texto, nos regresaria el valor -1\n",
    "\n",
    "texto='Mi serie favorita es Breaking Bad'\n",
    "\n",
    "texto.find('blinder')\n"
   ]
  },
  {
   "cell_type": "code",
   "execution_count": 40,
   "id": "19b0b567",
   "metadata": {},
   "outputs": [
    {
     "name": "stdout",
     "output_type": "stream",
     "text": [
      "8\n",
      "11\n"
     ]
    }
   ],
   "source": [
    "# Primera aparicion de la letra \"a\"\n",
    "\n",
    "print(texto.find('a',0))\n",
    "\n",
    "#Segunda aparicion de la letra a\n",
    "pos=texto.find('a',0)\n",
    "print(texto.find('a',pos+1))\n",
    "\n",
    "\n",
    "\n"
   ]
  },
  {
   "cell_type": "code",
   "execution_count": 52,
   "id": "db4f59ca",
   "metadata": {},
   "outputs": [
    {
     "name": "stdout",
     "output_type": "stream",
     "text": [
      "Martes \n",
      "10am a 11am\n"
     ]
    }
   ],
   "source": [
    "#Un ejemplo mas:\n",
    "\n",
    "a= \"Mi partido de basquetbol se juega el dia Martes en un horario de 10am a 11am\"\n",
    "# Fecha\n",
    "var_bus= 'dia '\n",
    "inicio= a.find(var_bus) + len(var_bus)\n",
    "fin= inicio + 7\n",
    "print(a[inicio:fin])\n",
    "# Hora\n",
    "var_bus= 'horario de '\n",
    "inicio= a.find(var_bus) + len(var_bus)\n",
    "fin= inicio + 14\n",
    "print(a[inicio:fin])\n"
   ]
  },
  {
   "cell_type": "code",
   "execution_count": 58,
   "id": "715ad3f1",
   "metadata": {},
   "outputs": [
    {
     "name": "stdout",
     "output_type": "stream",
     "text": [
      "Mi partido de basquetbol se juega el dia Jueves en un horario de 10am a 11am\n",
      "Mi partido de basquetbol se juega el dia Jueves en un horario de 8am a 9am\n",
      "Mx partxdo de basquetbol se juega el dxa Jueves en un horarxo de 8am a 9am\n"
     ]
    }
   ],
   "source": [
    "#Reemplazar texto con la funcion replace()\n",
    "\n",
    "a2=a.replace('Martes','Jueves')\n",
    "print(a2)\n",
    "\n",
    "a3=a2.replace('10','8')\n",
    "a3=a3.replace('11','9')\n",
    "print(a3)\n",
    "\n",
    "#Inclusive se puede utilizar para reemplazar la totalidad de letras o palabras\n",
    "#de todoeltexto\n",
    "a4=a3.replace('i','x')\n",
    "print(a4)"
   ]
  },
  {
   "cell_type": "markdown",
   "id": "22f0b1b6",
   "metadata": {},
   "source": [
    "## Ejercicio Interesante\n",
    "\n",
    "Eliminar el exceso de espacios en blanco de la siguiente cadena de texto, de tal forma que se pueda leer como un enunciado normal"
   ]
  },
  {
   "cell_type": "code",
   "execution_count": 63,
   "id": "92f5284f",
   "metadata": {},
   "outputs": [
    {
     "data": {
      "text/plain": [
       "'saliendo del curso voy a ir por unas galletas'"
      ]
     },
     "execution_count": 63,
     "metadata": {},
     "output_type": "execute_result"
    }
   ],
   "source": [
    "cadena= 'saliendo   del    curso       voy a      ir     por   unas  galletas'\n",
    "\n",
    "##Solucion\n",
    "cadena.replace(' ','<>').replace('><','').replace('<>',' ')"
   ]
  },
  {
   "cell_type": "code",
   "execution_count": 66,
   "id": "ce3e100e",
   "metadata": {},
   "outputs": [
    {
     "name": "stdout",
     "output_type": "stream",
     "text": [
      " La variable comienza con Me : True\n",
      " La variable comienza con Me : False\n"
     ]
    }
   ],
   "source": [
    "# Evaluar si una variable inicia con un nombre en especifico\n",
    "\n",
    "v='Me gusta la programacion'\n",
    "\n",
    "v2=v.startswith('Me')\n",
    "v3=v.startswith('Las')\n",
    "\n",
    "print(' La variable comienza con Me : {}'.format(v2))\n",
    "print(' La variable comienza con Me : {}'.format(v3))"
   ]
  },
  {
   "cell_type": "markdown",
   "id": "1ec2b2d5",
   "metadata": {},
   "source": [
    "# Variables Numéricas"
   ]
  },
  {
   "cell_type": "markdown",
   "id": "9a2bf7da",
   "metadata": {},
   "source": [
    "Hay dos tipos de variables numericas:\n",
    "\n",
    "1.Enteros: Se denominan con la palabra **int** estos no pueden ser decimales\n",
    "    \n",
    "2.Reales: Se denominan con la palabra **float** estos pueden ser decimales"
   ]
  },
  {
   "cell_type": "code",
   "execution_count": 68,
   "id": "5d1922b7",
   "metadata": {},
   "outputs": [
    {
     "name": "stdout",
     "output_type": "stream",
     "text": [
      "El tipo de dato de la variable x es : <class 'int'>\n",
      "El tipo de dato de la variable x es : <class 'float'>\n"
     ]
    }
   ],
   "source": [
    "x=5\n",
    "y=3.1416\n",
    "\n",
    "print('El tipo de dato de la variable x es : {}'.format(type(x)))\n",
    "print('El tipo de dato de la variable x es : {}'.format(type(y)))"
   ]
  },
  {
   "cell_type": "markdown",
   "id": "64f54049",
   "metadata": {},
   "source": [
    "## Operaciones Algebracias"
   ]
  },
  {
   "cell_type": "code",
   "execution_count": 69,
   "id": "d7977427",
   "metadata": {},
   "outputs": [
    {
     "name": "stdout",
     "output_type": "stream",
     "text": [
      "Suma: 8.1416\n",
      "Resta: 1.8584\n",
      "Multiplicación: 15.708\n",
      "División: 1.591545709192768\n"
     ]
    }
   ],
   "source": [
    "z1=x+y\n",
    "z2=x-y\n",
    "z3=x*y\n",
    "z4=x/y\n",
    "\n",
    "#Formato de impresion con salto de linea\n",
    "\n",
    "print('Suma: {}\\nResta: {}\\nMultiplicación: {}\\nDivisión: {}'.format(z1,z2,z3,z4))\n"
   ]
  },
  {
   "cell_type": "code",
   "execution_count": 70,
   "id": "40e2c267",
   "metadata": {},
   "outputs": [
    {
     "name": "stdout",
     "output_type": "stream",
     "text": [
      "2\n",
      "1\n",
      "125\n",
      "1.7099759466766968\n"
     ]
    }
   ],
   "source": [
    "# Más operaciones\n",
    "print(x//2)        # Cociente\n",
    "print(x%2)         # Resto\n",
    "print(pow(x,3))    # Potencia\n",
    "print(pow(x,1/3))  # Raíz"
   ]
  },
  {
   "cell_type": "markdown",
   "id": "e011d189",
   "metadata": {},
   "source": [
    "## Jerarquia de las Operaciones"
   ]
  },
  {
   "cell_type": "markdown",
   "id": "2621771e",
   "metadata": {},
   "source": [
    "- La suma y la resta tienen la misma jerarquia\n",
    "\n",
    "- La division y la multiplicacion tienen la misma jerarquia, pero mayor que la suma y la resta\n",
    "\n",
    "- El cociente, el resto, tienen la misma jerarquía, pero mayor que la multiplicación y la divisió\n",
    "\n"
   ]
  },
  {
   "cell_type": "code",
   "execution_count": 73,
   "id": "d3ac8d1a",
   "metadata": {},
   "outputs": [
    {
     "name": "stdout",
     "output_type": "stream",
     "text": [
      "6.5708\n",
      "3\n"
     ]
    }
   ],
   "source": [
    "print(x+y/2)   # a.<10  ó  b.>10    Respuesta= b\n",
    "\n",
    "print(x*2//3)   # a. <=2  ó  b. >2  Respuesta= b"
   ]
  },
  {
   "cell_type": "code",
   "execution_count": null,
   "id": "ca8d70a6",
   "metadata": {},
   "outputs": [],
   "source": [
    "## Variables Booleanas"
   ]
  },
  {
   "cell_type": "code",
   "execution_count": 74,
   "id": "9609b519",
   "metadata": {},
   "outputs": [
    {
     "name": "stdout",
     "output_type": "stream",
     "text": [
      "Tipo de dato de x: <class 'bool'> \n",
      "Tipo de dato de y: <class 'bool'>\n"
     ]
    }
   ],
   "source": [
    "x = True\n",
    "y = False\n",
    "\n",
    "xneg= not x  # Negada de x \n",
    "yneg= not y  # Negada de y\n",
    "\n",
    "print('Tipo de dato de x: {} \\nTipo de dato de y: {}'.format(type(x), type(y)))\n"
   ]
  },
  {
   "cell_type": "markdown",
   "id": "c26040d9",
   "metadata": {},
   "source": [
    "## Operaciones con variables booleanas"
   ]
  },
  {
   "cell_type": "markdown",
   "id": "6c8a0777",
   "metadata": {},
   "source": [
    "- \"and\"  Pide que se cumplan todas las condiciones para devolver TRUE\n",
    "\n",
    "- \"or\"   Pide que se cumpla alguna de las condiciones para devolver TRUE"
   ]
  },
  {
   "cell_type": "code",
   "execution_count": 75,
   "id": "09d7c42a",
   "metadata": {},
   "outputs": [
    {
     "name": "stdout",
     "output_type": "stream",
     "text": [
      "False\n",
      "True\n",
      "False\n"
     ]
    }
   ],
   "source": [
    "print(x and y)  # False\n",
    "print(x and x)  # True\n",
    "print(y and y)  # False"
   ]
  },
  {
   "cell_type": "code",
   "execution_count": 78,
   "id": "dfe28b70",
   "metadata": {},
   "outputs": [
    {
     "name": "stdout",
     "output_type": "stream",
     "text": [
      "True\n",
      "False\n",
      "True\n"
     ]
    }
   ],
   "source": [
    "## Ejercicio\n",
    "# Que regresan las siguientes expresiones ?\n",
    "print(x and not y)      # True\n",
    "print(not x or y)       # False\n",
    "print(not x or not y)   # True"
   ]
  },
  {
   "cell_type": "markdown",
   "id": "c89315cd",
   "metadata": {},
   "source": [
    "## Operadores Logicos"
   ]
  },
  {
   "cell_type": "code",
   "execution_count": 76,
   "id": "d5373f26",
   "metadata": {},
   "outputs": [
    {
     "name": "stdout",
     "output_type": "stream",
     "text": [
      "True\n",
      "False\n",
      "False\n",
      "True\n"
     ]
    }
   ],
   "source": [
    "#Mayor que\n",
    "x= 5>4       # También podemos usar \">=\"\n",
    "print(x)\n",
    "#Menor que\n",
    "y= 5<4       # También podemos usar \"<=\"\n",
    "print(y)\n",
    "#Igual que \n",
    "z= 5==4\n",
    "print(z)\n",
    "#Diferente de \n",
    "w= 5!=4\n",
    "print(w)"
   ]
  },
  {
   "cell_type": "code",
   "execution_count": 77,
   "id": "4c5eefa7",
   "metadata": {},
   "outputs": [
    {
     "name": "stdout",
     "output_type": "stream",
     "text": [
      "<class 'str'>\n",
      "<class 'int'>\n",
      "<class 'float'>\n",
      "-------------------\n",
      "<class 'float'>\n",
      "<class 'str'>\n",
      "0\n",
      "5\n"
     ]
    }
   ],
   "source": [
    "##Conversion de datos\n",
    "\n",
    "k= '30'\n",
    "k2= int(k)\n",
    "k3= float(k)\n",
    "print(type(k))\n",
    "print(type(k2))\n",
    "print(type(k3))\n",
    "print('-------------------')\n",
    "\n",
    "m= 341.90\n",
    "m2= str(m)\n",
    "print(type(m))\n",
    "print(type(m2))\n",
    "\n",
    "#Usos de True y False en los operadores matematicos\n",
    "print(False*5)\n",
    "print(True*5)"
   ]
  }
 ],
 "metadata": {
  "kernelspec": {
   "display_name": "Python 3 (ipykernel)",
   "language": "python",
   "name": "python3"
  },
  "language_info": {
   "codemirror_mode": {
    "name": "ipython",
    "version": 3
   },
   "file_extension": ".py",
   "mimetype": "text/x-python",
   "name": "python",
   "nbconvert_exporter": "python",
   "pygments_lexer": "ipython3",
   "version": "3.9.7"
  }
 },
 "nbformat": 4,
 "nbformat_minor": 5
}
